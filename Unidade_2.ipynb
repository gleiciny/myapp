{
  "nbformat": 4,
  "nbformat_minor": 0,
  "metadata": {
    "colab": {
      "provenance": [],
      "authorship_tag": "ABX9TyOa0lio8LkLumF2Kqkl9ey7",
      "include_colab_link": true
    },
    "kernelspec": {
      "name": "python3",
      "display_name": "Python 3"
    },
    "language_info": {
      "name": "python"
    }
  },
  "cells": [
    {
      "cell_type": "markdown",
      "metadata": {
        "id": "view-in-github",
        "colab_type": "text"
      },
      "source": [
        "<a href=\"https://colab.research.google.com/github/gleiciny/myapp/blob/main/Unidade_2.ipynb\" target=\"_parent\"><img src=\"https://colab.research.google.com/assets/colab-badge.svg\" alt=\"Open In Colab\"/></a>"
      ]
    },
    {
      "cell_type": "code",
      "execution_count": null,
      "metadata": {
        "colab": {
          "base_uri": "https://localhost:8080/"
        },
        "id": "FPCfg41QScTz",
        "outputId": "1a3e7bf0-6a7a-42d1-ef71-0a2465c72228"
      },
      "outputs": [
        {
          "output_type": "execute_result",
          "data": {
            "text/plain": [
              "(         Data          Cidade  Temperatura Máxima (°C)  \\\n",
              " 0  15/01/2025       São Paulo                     30.5   \n",
              " 1  15/01/2025  Rio de Janeiro                     35.0   \n",
              " 2  15/01/2025        Curitiba                     24.0   \n",
              " 3  15/01/2025    Porto Alegre                     28.0   \n",
              " 4  15/01/2025        Salvador                     31.0   \n",
              " \n",
              "    Temperatura Mínima (°C)  Amplitude Térmica  Precipitação (mm)  \\\n",
              " 0                     22.0                8.5          12.000000   \n",
              " 1                     25.0               10.0          11.666667   \n",
              " 2                     18.0                6.0           8.000000   \n",
              " 3                     20.0                8.0          15.000000   \n",
              " 4                     24.5                6.5          11.666667   \n",
              " \n",
              "    Umidade Relativa (%)  \n",
              " 0                  78.0  \n",
              " 1                  70.0  \n",
              " 2                  79.0  \n",
              " 3                  82.0  \n",
              " 4                  80.0  ,\n",
              "          Data          Cidade  Temperatura Máxima (°C)  \\\n",
              " 0  15/01/2025       São Paulo                     30.5   \n",
              " 1  15/01/2025  Rio de Janeiro                     35.0   \n",
              " 4  15/01/2025        Salvador                     31.0   \n",
              " \n",
              "    Temperatura Mínima (°C)  Amplitude Térmica  Precipitação (mm)  \\\n",
              " 0                     22.0                8.5          12.000000   \n",
              " 1                     25.0               10.0          11.666667   \n",
              " 4                     24.5                6.5          11.666667   \n",
              " \n",
              "    Umidade Relativa (%)  \n",
              " 0                  78.0  \n",
              " 1                  70.0  \n",
              " 4                  80.0  )"
            ]
          },
          "metadata": {},
          "execution_count": 20
        }
      ],
      "source": [
        "\n",
        "# Criando o DataFrame\n",
        "\n",
        "import pandas as pd\n",
        "\n",
        "df = pd.DataFrame({\n",
        "    \"Data\": [\"15/01/2025\"] * 5,\n",
        "    \"Cidade\": [\"São Paulo\", \"Rio de Janeiro\", \"Curitiba\", \"Porto Alegre\", \"Salvador\"],\n",
        "    \"Temperatura Máxima (°C)\": [30.5, 35.0, 24.0, 28.0, 31.0],\n",
        "    \"Temperatura Mínima (°C)\": [22.0, 25.0, 18.0, 20.0, 24.5],\n",
        "    \"Precipitação (mm)\": [12.0, None, 8.0, 15.0, None],\n",
        "    \"Umidade Relativa (%)\": [78, 70, None, 82, 80]\n",
        "})\n",
        "\n",
        "# Preenchendo valores ausentes\n",
        "df.loc[df[\"Precipitação (mm)\"].isna(), \"Precipitação (mm)\"] = df[\"Precipitação (mm)\"].mean()\n",
        "\n",
        "## Substituir valores ausentes na coluna Umidade Relativa pela mediana\n",
        "df.loc[df[\"Umidade Relativa (%)\"].isna(), \"Umidade Relativa (%)\"] = df[\"Umidade Relativa (%)\"].median()\n",
        "\n",
        "# Adicionando coluna de Amplitude Térmica\n",
        "df[\"Amplitude Térmica\"] = df[\"Temperatura Máxima (°C)\"] - df[\"Temperatura Mínima (°C)\"]\n",
        "\n",
        "# Filtrando cidades com Temperatura Máxima acima de 30°C\n",
        "df_cidades_quentes = df[df[\"Temperatura Máxima (°C)\"] > 30].copy()\n",
        "\n",
        "# Reordenando colunas\n",
        "colunas_ordenadas = [\"Data\", \"Cidade\", \"Temperatura Máxima (°C)\", \"Temperatura Mínima (°C)\",\n",
        "                      \"Amplitude Térmica\", \"Precipitação (mm)\", \"Umidade Relativa (%)\"]\n",
        "df = df[colunas_ordenadas]\n",
        "df_cidades_quentes = df_cidades_quentes[colunas_ordenadas]\n",
        "\n",
        "df, df_cidades_quentes"
      ]
    }
  ]
}