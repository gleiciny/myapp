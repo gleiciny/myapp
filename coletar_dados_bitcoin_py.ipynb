{
  "nbformat": 4,
  "nbformat_minor": 0,
  "metadata": {
    "colab": {
      "provenance": [],
      "authorship_tag": "ABX9TyPyorMa7U8gypR3rOgcrfYW",
      "include_colab_link": true
    },
    "kernelspec": {
      "name": "python3",
      "display_name": "Python 3"
    },
    "language_info": {
      "name": "python"
    }
  },
  "cells": [
    {
      "cell_type": "markdown",
      "metadata": {
        "id": "view-in-github",
        "colab_type": "text"
      },
      "source": [
        "<a href=\"https://colab.research.google.com/github/gleiciny/myapp/blob/main/coletar_dados_bitcoin_py.ipynb\" target=\"_parent\"><img src=\"https://colab.research.google.com/assets/colab-badge.svg\" alt=\"Open In Colab\"/></a>"
      ]
    },
    {
      "cell_type": "code",
      "execution_count": 28,
      "metadata": {
        "colab": {
          "base_uri": "https://localhost:8080/"
        },
        "id": "Ljt5QdbaZJBf",
        "outputId": "3117b600-5381-4ab0-c5e1-ad3295b59498"
      },
      "outputs": [
        {
          "output_type": "stream",
          "name": "stdout",
          "text": [
            "Dados históricos salvos em bitcoin_historical_data.csv\n"
          ]
        }
      ],
      "source": [
        "\n",
        "import requests\n",
        "import pandas as pd\n",
        "\n",
        "def get_historical_data(coin_id, vs_currency, days):\n",
        "    url = f'https://api.coingecko.com/api/v3/coins/{coin_id}/market_chart'\n",
        "    params = {\n",
        "        'vs_currency': vs_currency,\n",
        "        'days': days,\n",
        "    }\n",
        "    response = requests.get(url, params=params)\n",
        "    data = response.json()\n",
        "    prices = data['prices']\n",
        "    df = pd.DataFrame(prices, columns=['timestamp', 'price'])\n",
        "    df['timestamp'] = pd.to_datetime(df['timestamp'], unit='ms')\n",
        "    return df\n",
        "\n",
        "# Coletar dados históricos de preço do Bitcoin nos últimos 365 dias\n",
        "df = get_historical_data('bitcoin', 'usd', '365')\n",
        "df.to_csv('bitcoin_historical_data.csv', index=False)\n",
        "print('Dados históricos salvos em bitcoin_historical_data.csv')\n"
      ]
    },
    {
      "cell_type": "code",
      "source": [
        "import requests\n",
        "import pandas as pd\n",
        "from sklearn.model_selection import train_test_split, GridSearchCV\n",
        "from sklearn.ensemble import RandomForestClassifier\n",
        "from sklearn.metrics import accuracy_score\n",
        "from sklearn.preprocessing import StandardScaler\n",
        "\n",
        "def get_historical_data(coin_id, vs_currency, days):\n",
        "    url = f'https://api.coingecko.com/api/v3/coins/{coin_id}/market_chart'\n",
        "    params = {\n",
        "        'vs_currency': vs_currency,\n",
        "        'days': days,\n",
        "    }\n",
        "    response = requests.get(url, params=params)\n",
        "    data = response.json()\n",
        "    prices = data['prices']\n",
        "    df = pd.DataFrame(prices, columns=['timestamp', 'price'])\n",
        "    df['timestamp'] = pd.to_datetime(df['timestamp'], unit='ms')\n",
        "    return df\n",
        "\n",
        "# Coletar dados históricos de preço do Bitcoin nos últimos 365 dias\n",
        "df = get_historical_data('bitcoin', 'usd', '365')\n",
        "df['price_diff'] = df['price'].diff()  # Diferença de preço\n",
        "df['price_pct_change'] = df['price'].pct_change()  # Mudança percentual do preço\n",
        "df['price_7day_ma'] = df['price'].rolling(window=7).mean()  # Média móvel de 7 dias\n",
        "df['price_30day_ma'] = df['price'].rolling(window=30).mean()  # Média móvel de 30 dias\n",
        "df = df.dropna()\n",
        "df.to_csv('bitcoin_historical_data.csv', index=False)\n",
        "\n",
        "# Carregar dados históricos\n",
        "df = pd.read_csv('bitcoin_historical_data.csv')\n",
        "\n",
        "# Criar variáveis de entrada e saída\n",
        "df['target'] = (df['price'].shift(-1) > df['price']).astype(int)\n",
        "df = df.dropna()\n",
        "X = df[['price', 'price_diff', 'price_pct_change', 'price_7day_ma', 'price_30day_ma']]\n",
        "y = df['target']\n",
        "\n",
        "# Normalizar os dados\n",
        "scaler = StandardScaler()\n",
        "X = scaler.fit_transform(X)\n",
        "\n",
        "# Dividir os dados em conjuntos de treino e teste\n",
        "X_train, X_test, y_train, y_test = train_test_split(X, y, test_size=0.2, random_state=42)\n",
        "\n",
        "# Ajuste de hiperparâmetros para o modelo Random Forest\n",
        "param_grid = {\n",
        "    'n_estimators': [50, 100, 200],\n",
        "    'max_depth': [None, 10, 20, 30],\n",
        "    'min_samples_split': [2, 5, 10],\n",
        "    'min_samples_leaf': [1, 2, 4]\n",
        "}\n",
        "\n",
        "grid_search = GridSearchCV(estimator=RandomForestClassifier(random_state=42), param_grid=param_grid, cv=3, n_jobs=-1, verbose=2)\n",
        "grid_search.fit(X_train, y_train)\n",
        "best_model = grid_search.best_estimator_\n",
        "\n",
        "# Fazer previsões e calcular a acurácia\n",
        "y_pred = best_model.predict(X_test)\n",
        "accuracy = accuracy_score(y_test, y_pred)\n",
        "print(f'Acurácia do modelo: {accuracy:.2f}')\n",
        "\n",
        "# Visualizar a importância de cada variável\n",
        "importances = best_model.feature_importances_\n",
        "features = df[['price', 'price_diff', 'price_pct_change', 'price_7day_ma', 'price_30day_ma']].columns\n",
        "importance_df = pd.DataFrame({'feature': features, 'importance': importances})\n",
        "print(importance_df)\n"
      ],
      "metadata": {
        "colab": {
          "base_uri": "https://localhost:8080/"
        },
        "id": "tFCnjkNPuoEy",
        "outputId": "62823346-2325-47dc-e4b1-cda442e1731d"
      },
      "execution_count": 27,
      "outputs": [
        {
          "output_type": "stream",
          "name": "stdout",
          "text": [
            "Fitting 3 folds for each of 108 candidates, totalling 324 fits\n",
            "Acurácia do modelo: 0.46\n",
            "            feature  importance\n",
            "0             price    0.214310\n",
            "1        price_diff    0.193714\n",
            "2  price_pct_change    0.163017\n",
            "3     price_7day_ma    0.195987\n",
            "4    price_30day_ma    0.232972\n"
          ]
        }
      ]
    }
  ]
}